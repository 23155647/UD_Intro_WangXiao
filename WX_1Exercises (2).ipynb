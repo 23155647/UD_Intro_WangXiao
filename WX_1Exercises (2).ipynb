{
 "cells": [
  {
   "cell_type": "markdown",
   "id": "38e188a5",
   "metadata": {},
   "source": [
    "# Exercise 00\n",
    "Write a piece of code that allocates a list of 20 integers and initializes each element by its index multiplied by 5. Print the result."
   ]
  },
  {
   "cell_type": "code",
   "execution_count": 72,
   "id": "01aa4f35",
   "metadata": {},
   "outputs": [
    {
     "name": "stdout",
     "output_type": "stream",
     "text": [
      "[0, 25, 50, 75, 100, 125, 150, 175, 200, 225, 250, 275, 300, 325, 350, 375, 400, 425, 450, 475]\n"
     ]
    }
   ],
   "source": [
    "list=[]\n",
    "for x in range(20):\n",
    "    x=x*5\n",
    "    list.append(x*5)\n",
    "print(list)"
   ]
  },
  {
   "cell_type": "code",
   "execution_count": null,
   "id": "2cc4d635-34cc-45ac-a0cd-cb4cc3d47e42",
   "metadata": {},
   "outputs": [],
   "source": [
    "####append() 是 Python 列表对象的一种方法，用于将一个元素添加到列表的末尾。\n",
    "每次调用 append()，列表的长度都会增加 1，并且新元素会插入到最后。"
   ]
  },
  {
   "cell_type": "markdown",
   "id": "529d91ae",
   "metadata": {},
   "source": [
    "# Exercise 01\n",
    "Define a function that takes an integer as input, prints  all integers that it is divisable by, and returns the largest one."
   ]
  },
  {
   "cell_type": "code",
   "execution_count": 62,
   "id": "30e79132",
   "metadata": {},
   "outputs": [
    {
     "name": "stdout",
     "output_type": "stream",
     "text": [
      "1\n",
      "2\n",
      "4\n",
      "5\n",
      "10\n",
      "10\n"
     ]
    }
   ],
   "source": [
    "def dividers(n):\n",
    "    div=1##初始化变量\n",
    "    for x in range(1,int(n/2+1)):\n",
    "        if n%x==0:###这里的 % 是模运算符，n % i == 0 的意思是，如果 n 除以 i 的余数为 0，则 i 是 n 的因数。\n",
    "            div=x###if x 是 n 的因数（ n % x == 0），那么将 x 赋值给 div，这意味着当前找到的最大的因数是 x\n",
    "            print(x)\n",
    "    return div\n",
    "print(dividers(20))"
   ]
  },
  {
   "cell_type": "markdown",
   "id": "cfbe30d4",
   "metadata": {},
   "source": [
    "# Exercise 02\n",
    "- create a dictionary with 6 keys and values of your choice\n",
    "- write a function that takes a dictionary and a value as input and returns whether the value occurs as a key in the dictionary\n",
    "- write a function that takes a dictionary as input, and returns the dictionary but the keys are swapped with their values (resolve the issue if a value occurs twice!)"
   ]
  },
  {
   "cell_type": "code",
   "execution_count": 5,
   "id": "2123f1c6",
   "metadata": {},
   "outputs": [],
   "source": [
    "thisDict={'dog':'red', \n",
    "          'cat':'yellow', \n",
    "          'book':'blue', \n",
    "          'pen':'black', \n",
    "          'phone':'white', \n",
    "          'paper':'green'}"
   ]
  },
  {
   "cell_type": "code",
   "execution_count": 74,
   "id": "ebb64ab8-973f-4b59-a996-688556db0de8",
   "metadata": {},
   "outputs": [
    {
     "data": {
      "text/plain": [
       "True"
      ]
     },
     "execution_count": 74,
     "metadata": {},
     "output_type": "execute_result"
    }
   ],
   "source": [
    "def dictionary_1(k,v):##创建了一个名为 inDictionary 的函数，并且该函数接受两个参数 k 和 v\n",
    "    for x in k.keys():##.keys() 方法返回的是字典中所有键的集合\n",
    "        if v == x:\n",
    "            return True\n",
    "    return False\n",
    "dictionary_1(thisDict, 'pen')"
   ]
  },
  {
   "cell_type": "code",
   "execution_count": null,
   "id": "fee8f7b9-ea37-49b2-a4f5-d249be0d68c7",
   "metadata": {},
   "outputs": [],
   "source": []
  },
  {
   "cell_type": "code",
   "execution_count": 53,
   "id": "0cd336e7-b4ae-4d92-92bc-b9b6bdbdbfe4",
   "metadata": {},
   "outputs": [
    {
     "ename": "TypeError",
     "evalue": "isinstance() arg 2 must be a type, a tuple of types, or a union",
     "output_type": "error",
     "traceback": [
      "\u001b[0;31m---------------------------------------------------------------------------\u001b[0m",
      "\u001b[0;31mTypeError\u001b[0m                                 Traceback (most recent call last)",
      "Cell \u001b[0;32mIn[53], line 15\u001b[0m\n\u001b[1;32m     12\u001b[0m             new_dict[value] \u001b[38;5;241m=\u001b[39m key  \n\u001b[1;32m     13\u001b[0m     \u001b[38;5;28;01mreturn\u001b[39;00m new_dict\n\u001b[0;32m---> 15\u001b[0m swapped_dict \u001b[38;5;241m=\u001b[39m \u001b[43mswapDictionary\u001b[49m\u001b[43m(\u001b[49m\u001b[43mmy_dict\u001b[49m\u001b[43m)\u001b[49m\n\u001b[1;32m     16\u001b[0m \u001b[38;5;28mprint\u001b[39m(swapped_dict)\n",
      "Cell \u001b[0;32mIn[53], line 7\u001b[0m, in \u001b[0;36mswapDictionary\u001b[0;34m(d)\u001b[0m\n\u001b[1;32m      5\u001b[0m \u001b[38;5;28;01mfor\u001b[39;00m key, value \u001b[38;5;129;01min\u001b[39;00m d\u001b[38;5;241m.\u001b[39mitems():\n\u001b[1;32m      6\u001b[0m     \u001b[38;5;28;01mif\u001b[39;00m value \u001b[38;5;129;01min\u001b[39;00m new_dict:  \n\u001b[0;32m----> 7\u001b[0m         \u001b[38;5;28;01mif\u001b[39;00m \u001b[38;5;28;43misinstance\u001b[39;49m\u001b[43m(\u001b[49m\u001b[43mnew_dict\u001b[49m\u001b[43m[\u001b[49m\u001b[43mvalue\u001b[49m\u001b[43m]\u001b[49m\u001b[43m,\u001b[49m\u001b[43m \u001b[49m\u001b[38;5;28;43mlist\u001b[39;49m\u001b[43m)\u001b[49m:  \u001b[38;5;66;03m# 如果该值对应的是一个列表\u001b[39;00m\n\u001b[1;32m      8\u001b[0m             new_dict[value]\u001b[38;5;241m.\u001b[39mappend(key)  \n\u001b[1;32m      9\u001b[0m         \u001b[38;5;28;01melse\u001b[39;00m:\n",
      "\u001b[0;31mTypeError\u001b[0m: isinstance() arg 2 must be a type, a tuple of types, or a union"
     ]
    }
   ],
   "source": [
    "my_dict = {'a': 1, 'b': 2, 'c': 3, 'd': 2}\n",
    "\n",
    "def swapDictionary(d):\n",
    "    new_dict = {}  \n",
    "    for key, value in d.items():###items 意味着我获得了字典中所有内容的路径和通道。\n",
    "        if value in new_dict:  \n",
    "            if isinstance(new_dict[value], list):  # 如果该值对应的是一个列表\n",
    "                new_dict[value].append(key)  \n",
    "            else:\n",
    "                new_dict[value] = [new_dict[value], key] \n",
    "        else:\n",
    "            new_dict[value] = key  \n",
    "    return new_dict\n",
    "\n",
    "swapped_dict = swapDictionary(my_dict)\n",
    "print(swapped_dict)"
   ]
  },
  {
   "cell_type": "code",
   "execution_count": 75,
   "id": "ad906b82-7e11-4454-be7f-081736f0bcb9",
   "metadata": {},
   "outputs": [
    {
     "data": {
      "text/plain": [
       "{1: 'a', 2: ['b', 'd'], 3: 'c'}"
      ]
     },
     "execution_count": 75,
     "metadata": {},
     "output_type": "execute_result"
    }
   ],
   "source": [
    "mydict = {'a':1, 'b':2, 'c':3, 'd':2}\n",
    "def swapDictionary(d):\n",
    "    newDict = {}\n",
    "    for k in d.keys():\n",
    "        if dictionary_1(newDict,d[k]):\n",
    "            value = newDict[d[k]]\n",
    "            newvalue = [value, k]\n",
    "            newDict[d[k]]=newvalue\n",
    "        else:\n",
    "            newDict[d[k]]=k\n",
    "    return newDict\n",
    "swapDictionary(mydict)"
   ]
  },
  {
   "cell_type": "code",
   "execution_count": null,
   "id": "622c9cb8-e686-4f68-90c2-0164ff02bcb5",
   "metadata": {},
   "outputs": [],
   "source": [
    "##if inDictionary(newDict,d[k]):\n",
    "inDictionary() 是一个自定义函数，它接受两个参数：\n",
    "第一个参数 newDict 是一个字典，表示我们要查找的对象。\n",
    "第二个参数 d[k] 是要查找的值，来自于字典 d 中键 k 对应的值。\n",
    "这个函数的作用应该是检查 newDict 中是否已经有 d[k] 这个值，如果存在，则返回 True，否则返回 False"
   ]
  },
  {
   "cell_type": "markdown",
   "id": "b4b4e426",
   "metadata": {},
   "source": [
    "# Exercise 03\n",
    "Define a function that creates a dictionary of the first n fibonacci numbers as values paired with their indices as keys. "
   ]
  },
  {
   "cell_type": "code",
   "execution_count": 61,
   "id": "7845b5a4",
   "metadata": {},
   "outputs": [
    {
     "data": {
      "text/plain": [
       "{0: 0, 1: 1, 2: 1, 3: 2, 4: 3, 5: 5, 6: 8, 7: 13, 8: 21, 9: 34}"
      ]
     },
     "execution_count": 61,
     "metadata": {},
     "output_type": "execute_result"
    }
   ],
   "source": [
    "def fibonacciDict(n):\n",
    "    fibonacci = {}\n",
    "    n1 = 0\n",
    "    n2 = 1\n",
    "    for x in range(n):\n",
    "        fibonacci[x]=n1\n",
    "        x = n1 + n2\n",
    "        n1 = n2\n",
    "        n2 = x\n",
    "    return fibonacci\n",
    "\n",
    "fibonacciDict(10)"
   ]
  },
  {
   "cell_type": "code",
   "execution_count": null,
   "id": "3169272f-0acc-48a4-bf59-36d89c4510c5",
   "metadata": {},
   "outputs": [],
   "source": []
  }
 ],
 "metadata": {
  "kernelspec": {
   "display_name": "Python 3 (ipykernel)",
   "language": "python",
   "name": "python3"
  },
  "language_info": {
   "codemirror_mode": {
    "name": "ipython",
    "version": 3
   },
   "file_extension": ".py",
   "mimetype": "text/x-python",
   "name": "python",
   "nbconvert_exporter": "python",
   "pygments_lexer": "ipython3",
   "version": "3.10.15"
  }
 },
 "nbformat": 4,
 "nbformat_minor": 5
}
